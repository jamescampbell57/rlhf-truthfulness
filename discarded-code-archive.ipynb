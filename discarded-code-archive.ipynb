{
 "cells": [
  {
   "cell_type": "code",
   "execution_count": null,
   "metadata": {},
   "outputs": [],
   "source": [
    "#### IDK IF ANY OF THESE WORK, SAVING HERE\n",
    "\n",
    "# # from huggingface\n",
    "\n",
    "# from huggingface_hub import snapshot_download\n",
    "# from accelerate import load_checkpoint_and_dispatch, init_empty_weights\n",
    "\n",
    "# checkpoint_location = snapshot_download(\"decapoda-research/llama-7b-hf\")\n",
    "# checkpoint_location\n",
    "\n",
    "# # from huggingface method 2\n",
    "\n",
    "# from transformers import AutoTokenizer, AutoModelForCausalLM\n",
    "\n",
    "# tokenizer = AutoTokenizer.from_pretrained(\"decapoda-research/llama-7b-hf\")\n",
    "\n",
    "# model = AutoModelForCausalLM.from_pretrained(\"decapoda-research/llama-7b-hf\")\n",
    "\n",
    "# # from huggingface method 3\n",
    "\n",
    "# with init_empty_weights():\n",
    "#     model = LlamaForCausalLM.from_pretrained(checkpoint_location)\n",
    "# model = load_checkpoint_and_dispatch(\n",
    "#     model,\n",
    "#     checkpoint_location,\n",
    "#     device_map=\"auto\",\n",
    "#     no_split_module_classes=[\"LlamaDecoderLayer\"],\n",
    "# )\n",
    "\n",
    "# tok = LlamaTokenizer.from_pretrained(checkpoint_location)"
   ]
  }
 ],
 "metadata": {
  "language_info": {
   "name": "python"
  },
  "orig_nbformat": 4
 },
 "nbformat": 4,
 "nbformat_minor": 2
}
